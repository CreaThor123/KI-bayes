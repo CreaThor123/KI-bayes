{
 "cells": [
  {
   "cell_type": "markdown",
   "metadata": {},
   "source": [
    "# Bayesian Network"
   ]
  },
  {
   "cell_type": "markdown",
   "metadata": {},
   "source": [
    "## Inhalt\n",
    "1. Initialisierung und Datenimport\n",
    "2. Design des Bayesian Networks (Graph)\n",
    "3. Berechnen der CPTs\n",
    "4. Implementierung des Bayesian Networks\n",
    "5. Test und Evaluation\n",
    "6. Fazit"
   ]
  },
  {
   "cell_type": "markdown",
   "metadata": {},
   "source": [
    "## 1. Initialisierung und Datenimport"
   ]
  },
  {
   "cell_type": "code",
   "execution_count": null,
   "metadata": {},
   "outputs": [],
   "source": [
    "import pandas as pd\n",
    "import seaborn as sns\n",
    "import numpy as np\n",
    "from pomegranate import * # <--- muss ggf. mit pip install installiert werden"
   ]
  },
  {
   "cell_type": "code",
   "execution_count": null,
   "metadata": {
    "scrolled": true
   },
   "outputs": [],
   "source": [
    "data = pd.read_csv('Versicherung_A1.csv', sep=';')\n",
    "data.head()"
   ]
  },
  {
   "cell_type": "markdown",
   "metadata": {},
   "source": [
    "## 2. Design des Bayesian Networks (Graph)"
   ]
  },
  {
   "cell_type": "markdown",
   "metadata": {},
   "source": [
    "Gegeben sind 9 Variablen: Geschlecht, Familienstand, Alter, Kinder, Bildungsstand, Beruf, Jahresgehalt, Immobilienbesitz und Versicherungstarif.\n",
    "\n",
    "In diesem Kapitel möchten wir schrittweise ein 'sinnvolles' probabilistisches Netz entwickeln. Wir starten mit folgenden Annahmen:\n",
    "1. Unsere Zielvariable ist der **Versicherungstarif** (A, B, C oder abgelehnt).\n",
    "2. Die einzigen Variablen, welche unabhängig von allen anderen Variablen sind und somit keine Elternknoten im Graph haben werden, sind **Alter** und **Geschlecht**.\n",
    "\n",
    "Somit ergibt sich der folgende Graph.\n",
    "\n",
    "![title](img/bayes-start.png)\n",
    "\n",
    "Nachfolgend untersuchen wir mithilfe von Datenvisualiserungstechniken, wie sich das **Alter** und **Geschlecht** auf die verbleibenden Variablen auswirkt."
   ]
  },
  {
   "cell_type": "code",
   "execution_count": null,
   "metadata": {
    "scrolled": false
   },
   "outputs": [],
   "source": [
    "unknown_vars = ['Bildungsstand', 'Familienstand', 'Beruf', 'Kinder', 'Jahresgehalt', 'Immobilienbesitz']\n",
    "\n",
    "for var in unknown_vars:\n",
    "    if var == 'Jahresgehalt':\n",
    "        pass\n",
    "    else:\n",
    "        sns.catplot(x=var, y='Alter', data=data)\n",
    "        sns.catplot(x=var, hue='Geschlecht', data=data, kind='count')"
   ]
  },
  {
   "cell_type": "code",
   "execution_count": null,
   "metadata": {},
   "outputs": [],
   "source": [
    "# Geschlecht vs Gehalt\n",
    "data.groupby('Geschlecht').describe()['Jahresgehalt']"
   ]
  },
  {
   "cell_type": "markdown",
   "metadata": {},
   "source": [
    "Aus den obigen Plots lesen wir folgende Dinge ab:\n",
    "1. Die Verteilungen der einzelnen Kategorien sind stark geprägt durch das **Alter** der Personen. Wir gehen davon aus, dass das Alter aufgrund der zugrundeliegenden Biologie und gesetzlichen Normen der direkte Elternknoten von jedem einzelnen anderen Knoten ist.\n",
    "2. Insbesondere können wir beim **Alter** mehrere 'Levels' erkennen: Personen unter 20 Jahre und Personen über 65 Jahre können jeweils gesondert betrachtet werden.\n",
    "3. Das **Geschlecht** macht meist nur einen geringen Unterschied aus. Allerdings können wir auch hier eine leicht ungleichmäßige Verteilung feststellen, insbesondere bei **Bildungsstand**, **Immobilienbesitz** und **Beruf**.\n",
    "\n",
    "Weiterhin treffen wir folgende Annahmen:\n",
    "4. Ein weiterer Elternknoten von **Beruf** ist der **Bildungsstand** der Person.\n",
    "5. Die Elternknoten von **Gehalt** sind neben dem **Alter** der **Bildungsstand** und der **Beruf** der Person. Wir stellen ebenfalls einen leichten Gender Pay Gap fest, können jedoch nicht ausschließen, ob dieser direkt durch das Geschlecht oder bereits durch die ungleichmäßigen Verteilungen beim Bildungsstand und Beruf entstanden ist.\n",
    "6. Ein weiterer Elternknoten von **Immobilienbesitz** ist das **Jahresgehalt**.\n",
    "\n",
    "Nachfolgend wollen wir bestimmen, welche Variablen sich auf den Tarif auswirkt. Zunächst betrachten wir die numerischen Variablen und können aus den folgenden vier Plots folgende Dinge ablesen:\n",
    "7. Niemand unter 20 Jahre erhält einen Tarif (alle unter 20 werden abgelehnt).\n",
    "8. Niemand mit einem Gehalt unter 10000 erhält einen Tarif und nur Personen mit einem hohen Gehalt erhalten Tarif A.\n",
    "9. Niemand mit mehr als 2 Kindern erhält Tarif **A**. Wir denken jedoch nicht, dass die Kinderanzahl ausschlaggebend für den Tarif ist, sondern der Besitz einer Immobilie. Der letzte Plot zeigt, dass große Ähnlichkeiten zwischen Kinder-vs.-Tarif und Kinder-vs.-Immobilienbesitz bestehen.\n",
    "\n",
    "Wir schließen daraus, dass das Alter und Gehalt direkte Elternknoten für den Tarif sind \\[1, 7, 8\\], Kinder jedoch nicht \\[9\\]. Wir nehmen außerdem Kinder als zusätzlichen Elternknoten für Immobilien auf, da diese Graphen beinahe gleich sind \\[9\\]."
   ]
  },
  {
   "cell_type": "code",
   "execution_count": null,
   "metadata": {
    "scrolled": false
   },
   "outputs": [],
   "source": [
    "cont_vars = ['Alter', 'Jahresgehalt', 'Kinder']\n",
    "\n",
    "for cont in cont_vars:\n",
    "    sns.catplot(x='Versicherungstarif', y=cont, data=data)\n",
    "    \n",
    "sns.catplot(x='Immobilienbesitz', y='Kinder', data=data)"
   ]
  },
  {
   "cell_type": "markdown",
   "metadata": {},
   "source": [
    "Es ergibt sich folgender Graph:\n",
    "![title](img/bayes-mid.png)\n",
    "\n",
    "Für die restlichen (kategorischen) Variablen berechnen wir die bedingte Wahrscheinlichkeit, einen der Tarife zu bekommen, gegeben dass jeweils eine der restlichen Variablen eintritt. Dadurch soll verhindert werden, dass wir einen Elternknoten für Tarife aufnehmen, der eigentlich besser nur indirekt wirkt (Großvater/Urgroßvater/...).\n",
    "\n",
    "Für die kategorischen Variablen benutzen wir one-hot encoding, sodass für jede Kategorie eine einzelne True/False Spalte erzeugt wird."
   ]
  },
  {
   "cell_type": "code",
   "execution_count": null,
   "metadata": {},
   "outputs": [],
   "source": [
    "# one-hot encoding\n",
    "data_dummies = pd.get_dummies(data)\n",
    "data_dummies.head()"
   ]
  },
  {
   "cell_type": "markdown",
   "metadata": {},
   "source": [
    "$P(A|B) = \\frac{P(A und B)}{P(B)}$\t\n",
    "\n",
    "Ereignis A ist unsere Zielvariable, also Tarif A, Tarif B, Tarif C, oder ablehnen.  \n",
    "Ereignis B sind unsere unabhängigen Variablen; für's erste wir nehmen hierfür alle categorical Variablen.  \n",
    "  \n",
    "Wir iterieren über alle Zielvariablen und unabhängigen Variablen, und berechnen für jede Kombination die bedingte Wahrscheinlichkeit."
   ]
  },
  {
   "cell_type": "code",
   "execution_count": null,
   "metadata": {},
   "outputs": [],
   "source": [
    "data_dummies.columns"
   ]
  },
  {
   "cell_type": "code",
   "execution_count": null,
   "metadata": {},
   "outputs": [],
   "source": [
    "# categorical input variables\n",
    "cat_columns = ['Geschlecht_maennlich', 'Geschlecht_weiblich', 'Familienstand_geschieden',\n",
    "       'Familienstand_ledig', 'Familienstand_verheiratet',\n",
    "       'Familienstand_verwitwet', 'Bildungsstand_Abitur',\n",
    "       'Bildungsstand_Bachelor', 'Bildungsstand_Hauptschule',\n",
    "       'Bildungsstand_Keine', 'Bildungsstand_Lehre', 'Bildungsstand_Master',\n",
    "       'Bildungsstand_Promotion', 'Bildungsstand_Realschule',\n",
    "       'Beruf_angestellt', 'Beruf_arbeitend', 'Beruf_im Ruhestand',\n",
    "       'Beruf_kein', 'Beruf_selbständig', 'Beruf_verbeamtet',\n",
    "       'Immobilienbesitz_Eigentumswohnung', 'Immobilienbesitz_Einfamilienhaus',\n",
    "       'Immobilienbesitz_Mehrfamilienhaus', 'Immobilienbesitz_Villa',\n",
    "       'Immobilienbesitz_keiner']"
   ]
  },
  {
   "cell_type": "code",
   "execution_count": null,
   "metadata": {},
   "outputs": [],
   "source": [
    "total = len(data)\n",
    "total"
   ]
  },
  {
   "cell_type": "code",
   "execution_count": null,
   "metadata": {},
   "outputs": [],
   "source": [
    "# Calculating P(A)\n",
    "\n",
    "target_variables = ['Versicherungstarif_Tarif A',\n",
    "       'Versicherungstarif_Tarif B', 'Versicherungstarif_Tarif C',\n",
    "       'Versicherungstarif_ablehnen']\n",
    "\n",
    "p_A = {}\n",
    "\n",
    "for target in target_variables:\n",
    "    p_A[target] = data_dummies[target].sum()/total\n",
    "    \n",
    "p_A"
   ]
  },
  {
   "cell_type": "code",
   "execution_count": null,
   "metadata": {
    "scrolled": true
   },
   "outputs": [],
   "source": [
    "# Calculating P(B)\n",
    "\n",
    "p_B = {}\n",
    "\n",
    "for cat in cat_columns:\n",
    "    p_B[cat] = data_dummies[cat].sum()/total\n",
    "    \n",
    "p_B"
   ]
  },
  {
   "cell_type": "code",
   "execution_count": null,
   "metadata": {
    "scrolled": true
   },
   "outputs": [],
   "source": [
    "# Calculating P(A and B)\n",
    "\n",
    "p_A_and_B = {}\n",
    "\n",
    "for target in target_variables:\n",
    "    for cat in cat_columns:\n",
    "        b = data_dummies[cat] == 1\n",
    "        a = data_dummies[target] == 1\n",
    "        p_A_and_B[f'{target}_and_{cat}'] = len(data_dummies[a&b])/total\n",
    "        \n",
    "p_A_and_B"
   ]
  },
  {
   "cell_type": "code",
   "execution_count": null,
   "metadata": {
    "scrolled": true
   },
   "outputs": [],
   "source": [
    "# Calculating P(A|B) = P(A and B)/P(B)\n",
    "\n",
    "p_A_given_B = {}\n",
    "\n",
    "for target in target_variables:\n",
    "    for cat in cat_columns:\n",
    "        p_A_given_B[f'{target}_given_{cat}'] = p_A_and_B[f'{target}_and_{cat}']/p_B[cat]\n",
    "\n",
    "        \n",
    "p_A_given_B"
   ]
  },
  {
   "cell_type": "markdown",
   "metadata": {},
   "source": [
    "Wir testen mit folgender Formel, ob manche der Zielereignisse unabhängig (oder nur schwach abhängig) von Inputvariablen sind und filtern diese Inputvariablen heraus. Diese Inputvariablen können nicht mehr direkte Elternknoten für den Tarif werden.\n",
    "\n",
    "$P(A|B) \\approx P(A)$; \n",
    "\n",
    "Oder etwas präziser: wir definieren die Ereignisse A und B als unabhängig (\"nicht genug abhängig\"), falls $0.8 < \\frac{P(A|B)}{P(A)} < 1.25$\n"
   ]
  },
  {
   "cell_type": "code",
   "execution_count": null,
   "metadata": {},
   "outputs": [],
   "source": [
    "# Checking for stochastic independence\n",
    "for target in target_variables:\n",
    "    for cat in cat_columns:\n",
    "        ratio = p_A_given_B[f'{target}_given_{cat}'] / p_A[target]\n",
    "        if 4/5 < ratio < 5/4:\n",
    "            print(f'{target[19:]} - {cat}')"
   ]
  },
  {
   "cell_type": "markdown",
   "metadata": {},
   "source": [
    "Aus obiger Liste ziehen wir folgende Schlüße:\n",
    "1. Die Tarife sind unabhängig vom **Geschlecht**. Somit ist **Geschlecht** kein direkter Elternknoten vom Tarif.\n",
    "2. Manche Tarife sind teilweise unabhängig von **Familienstand** und **Bildungsstand**. Wir entscheiden uns dazu, den Familienstand als Elternknoten vom Tarif zu behalten; den Bildungsstand aber nicht als Elternknoten aufzunehmen, da der Bildungsstand noch indirekt über Gehalt und Beruf mit dem Tarif verwandt ist.\n",
    "3. Alle Tarife *sind abhängig* von den kategorischen Variablen **Immobilienbesitz** und **Beruf**, sodass wir diese zwei Knoten als Elternknoten einbauen.\n",
    "\n",
    "Es ergibt sich folgender finaler Graph.\n",
    "![title](img/bayes-end.png)\n"
   ]
  },
  {
   "cell_type": "markdown",
   "metadata": {},
   "source": [
    "# 3. Berechnen der CPTs\n",
    "\n",
    "Mit folgender Funktion *P()* und Klasse *Vertex* können wir sehr einfach die bedingten Wahrscheinlichkeiten für alle Nodes ausrechnen (CPT)."
   ]
  },
  {
   "cell_type": "code",
   "execution_count": null,
   "metadata": {},
   "outputs": [],
   "source": [
    "import itertools\n",
    "\n",
    "def P(query):\n",
    "    total = len(data)\n",
    "    x = data.query(query)\n",
    "    return len(x)/total\n",
    "\n",
    "# P('Geschlecht==\"maennlich\"')\n",
    "# >>> 0.502\n",
    "\n",
    "class Vertex:\n",
    "    \n",
    "    def __init__(self, name, s):\n",
    "        self.name = name\n",
    "        self.parents = []\n",
    "        self.states = s\n",
    "        self.cpt = None\n",
    "        \n",
    "    # Adds a new parent to the node\n",
    "    def register_parent(self, vertex):\n",
    "        self.parents.append(vertex)\n",
    "        \n",
    "    # Updates the CPT\n",
    "    def update_cpt(self):\n",
    "        \n",
    "        states = [];\n",
    "\n",
    "        # Check if node has parents\n",
    "        if len(self.parents) > 0:\n",
    "            \n",
    "            for p in self.parents:\n",
    "                states.append(p.states)\n",
    "                \n",
    "            states.append(self.states)\n",
    "            \n",
    "            permutations_tuples = list(itertools.product(*states))\n",
    "            self.cpt = []\n",
    "            \n",
    "            for p in permutations_tuples:\n",
    "                self.cpt.append(list(p))\n",
    "                            \n",
    "            for row in self.cpt:\n",
    "                given = \" & \".join(row[:-1])\n",
    "                \n",
    "                if P(given) == 0:\n",
    "                    row.append(0)\n",
    "                else:\n",
    "                    prob = P(\" & \".join(row))/P(given)\n",
    "                    row.append(prob)\n",
    "                            \n",
    "        # If node has no parents, just calculate the 'normal' probability P(s)\n",
    "        else:\n",
    "            states = [[s] for s in self.states]\n",
    "            for s in states:\n",
    "                s.append(P(s[0]))\n",
    "            self.cpt = states\n",
    "            \n",
    "    def print_cpt(self):\n",
    "        columns = [p.name for p in self.parents]\n",
    "        columns.append(self.name)\n",
    "        columns.append('Prob')\n",
    "        return pd.DataFrame(self.cpt, columns = columns)"
   ]
  },
  {
   "cell_type": "markdown",
   "metadata": {},
   "source": [
    "### Alter\n",
    "Wie zuvor angedeutet möchten wir das Alter in 3 Klassen aufteilen:\n",
    "1. Personen unter 20\n",
    "2. Personen zwischen 20 und 65\n",
    "3. Personen >= 65\n",
    "\n",
    "Hierzu rechnen wir die CPT aus (ohne condition, da keine parent node da ist) und überprüfen das Ergebnis kurz von Hand."
   ]
  },
  {
   "cell_type": "code",
   "execution_count": null,
   "metadata": {},
   "outputs": [],
   "source": [
    "age = Vertex('Alter', ['Alter < 20', 'Alter >=20 & Alter < 65', 'Alter>=65'])\n",
    "age.update_cpt()\n",
    "age.print_cpt()"
   ]
  },
  {
   "cell_type": "code",
   "execution_count": null,
   "metadata": {},
   "outputs": [],
   "source": [
    "# Herausfiltern aller Personen unter 20 Jahre\n",
    "u20 = data[data['Alter'] < 20]\n",
    "# Anzahl der herausgefilterten Datensätze durch Gesamtzahl teilen\n",
    "print(len(u20)/len(data))\n",
    "\n",
    "# Gleiches für die beiden anderen Altersgruppen\n",
    "ue20 = data[(data['Alter'] >= 20) & (data['Alter'] < 65)]\n",
    "print(len(ue20)/len(data))\n",
    "\n",
    "ue65 = data[data['Alter'] >= 65]\n",
    "print(len(ue65)/len(data))\n",
    "\n",
    "# ==> Ergebnis stimmt mit obiger Tabelle überein"
   ]
  },
  {
   "cell_type": "markdown",
   "metadata": {},
   "source": [
    "### Geschlecht\n",
    "Ähnlich zu Alter (ohne Elternknoten)."
   ]
  },
  {
   "cell_type": "code",
   "execution_count": null,
   "metadata": {},
   "outputs": [],
   "source": [
    "sex = Vertex('Geschlecht', ['Geschlecht==\"maennlich\"', 'Geschlecht==\"weiblich\"'])\n",
    "sex.update_cpt()\n",
    "sex.print_cpt()"
   ]
  },
  {
   "cell_type": "markdown",
   "metadata": {},
   "source": [
    "### Familienstand\n",
    "\n",
    "Wir berechnen die bedingte Wahrscheinlichkeit für Familienstand und Alter und überprüfen das Ergebnis stichprobenartig.  \n",
    "$P(Familienstand | Alter)$"
   ]
  },
  {
   "cell_type": "code",
   "execution_count": null,
   "metadata": {},
   "outputs": [],
   "source": [
    "familienstand = Vertex('Familienstand', ['Familienstand==\"ledig\"', 'Familienstand==\"geschieden\"',\n",
    "                      'Familienstand==\"verwitwet\"', 'Familienstand==\"verheiratet\"'])\n",
    "familienstand.register_parent(age)\n",
    "familienstand.update_cpt()\n",
    "familienstand.print_cpt()"
   ]
  },
  {
   "cell_type": "code",
   "execution_count": null,
   "metadata": {},
   "outputs": [],
   "source": [
    "# P(A|B) = P(A und B)/P(B)\n",
    "# A: ledig\n",
    "# B: <20 Jahre\n",
    "# ==> Erste Zeile im DataFrame\n",
    "\n",
    "print('P(A und B)')\n",
    "print(P('Familienstand==\"ledig\" & Alter < 20'))\n",
    "l_u20 = data[(data['Alter'] < 20) & (data['Familienstand'] == 'ledig')]\n",
    "print(len(l_u20)/len(data))\n",
    "\n",
    "print('\\nP(B)')\n",
    "print(P('Alter < 20')) ### Haben wir bereits ganz oben beim Alter überprüft --> 0.122\n",
    "\n",
    "\n",
    "print('P(A|B) = P(A und B)/P(B)')\n",
    "print(P('Familienstand==\"ledig\" & Alter < 20')/P('Alter < 20')) # --> Stimmt mit Ergebnis in Tabelle überein"
   ]
  },
  {
   "cell_type": "markdown",
   "metadata": {},
   "source": [
    "## Kinder\n",
    "Wir teilen die Personen in zwei Gruppen auf. :\n",
    "1. Personen mit <3 Kindern\n",
    "2. Personen mit >=3 Kindern\n",
    "\n",
    "\n",
    "Diese Grenze begründen wir dadurch, dass Personen mit >= 3 Kindern keine Villa besitzen und auch keinen Tarif A bekommen."
   ]
  },
  {
   "cell_type": "code",
   "execution_count": null,
   "metadata": {},
   "outputs": [],
   "source": [
    "kinder = Vertex('Kinder', ['Kinder < 3', 'Kinder >= 3'])\n",
    "kinder.register_parent(age)\n",
    "kinder.update_cpt()\n",
    "kinder.print_cpt()"
   ]
  },
  {
   "cell_type": "markdown",
   "metadata": {},
   "source": [
    "## Bildungsstand\n",
    "Wir berechnen die bedingte Wahrscheinlichkeit des Bildungsstands (gegeben Alter und Geschlecht) und überprüfen das Ergebnis stichprobenartig."
   ]
  },
  {
   "cell_type": "code",
   "execution_count": null,
   "metadata": {},
   "outputs": [],
   "source": [
    "states = [f'Bildungsstand==\"{x}\"' for x in data['Bildungsstand'].unique()]\n",
    "\n",
    "education = Vertex('Bildungsstand', states)\n",
    "education.register_parent(age)\n",
    "education.register_parent(sex)\n",
    "education.update_cpt()\n",
    "education.print_cpt()"
   ]
  },
  {
   "cell_type": "code",
   "execution_count": null,
   "metadata": {},
   "outputs": [],
   "source": [
    "# Test, ob P(Bachelor | 20-65 & weiblich) stimmt --> Zeile 25 im Dataframe.\n",
    "p_a_und_b = P('Bildungsstand==\"Bachelor\" & Alter >=20 & Alter < 65 & Geschlecht==\"weiblich\"')\n",
    "p_b = P('Alter >=20 & Alter < 65 & Geschlecht==\"weiblich\"')\n",
    "print(p_a_und_b / p_b) # ---> Stimmt"
   ]
  },
  {
   "cell_type": "markdown",
   "metadata": {},
   "source": [
    "## Beruf"
   ]
  },
  {
   "cell_type": "code",
   "execution_count": null,
   "metadata": {
    "scrolled": false
   },
   "outputs": [],
   "source": [
    "states = [f'Beruf==\"{x}\"' for x in data['Beruf'].unique()]\n",
    "\n",
    "beruf = Vertex('Beruf', states)\n",
    "beruf.register_parent(age)\n",
    "beruf.register_parent(sex)\n",
    "beruf.register_parent(education)\n",
    "beruf.update_cpt()\n",
    "beruf.print_cpt()"
   ]
  },
  {
   "cell_type": "markdown",
   "metadata": {},
   "source": [
    "## Jahresgehalt\n",
    "Wir erstellen erneut mehrere diskrete Gruppen basierend auf den Erkenntnissen im ersten Teil:\n",
    "1. Personen mit < 10.000\n",
    "2. Personen mit >= 10.000 & < 60.000\n",
    "3. Personen mit >= 60.000 & < 80.000\n",
    "4. Personen mit >= 80.000 & < 100.000\n",
    "5. Personen mit > 100.000"
   ]
  },
  {
   "cell_type": "code",
   "execution_count": null,
   "metadata": {},
   "outputs": [],
   "source": [
    "states =  ['Jahresgehalt < 10000', 'Jahresgehalt >= 10000 & Jahresgehalt < 60000',\n",
    "           'Jahresgehalt >= 60000 & Jahresgehalt < 80000',\n",
    "           'Jahresgehalt >= 80000 & Jahresgehalt < 100000',\n",
    "           'Jahresgehalt >= 100000']\n",
    "\n",
    "gehalt = Vertex('Jahresgehalt', states)\n",
    "gehalt.register_parent(age)\n",
    "gehalt.register_parent(education)\n",
    "gehalt.register_parent(beruf)\n",
    "gehalt.update_cpt()\n",
    "gehalt.print_cpt()"
   ]
  },
  {
   "cell_type": "markdown",
   "metadata": {},
   "source": [
    "## Immobilienbesitz"
   ]
  },
  {
   "cell_type": "code",
   "execution_count": null,
   "metadata": {},
   "outputs": [],
   "source": [
    "states = [f'Immobilienbesitz==\"{x}\"' for x in data['Immobilienbesitz'].unique()]\n",
    "\n",
    "\n",
    "immobilie = Vertex(\"Immobilienbesitz\", states)\n",
    "immobilie.register_parent(age)\n",
    "immobilie.register_parent(sex)\n",
    "immobilie.register_parent(kinder)\n",
    "immobilie.register_parent(gehalt)\n",
    "immobilie.update_cpt()\n",
    "immobilie.print_cpt()"
   ]
  },
  {
   "cell_type": "markdown",
   "metadata": {},
   "source": [
    "## Tarif"
   ]
  },
  {
   "cell_type": "code",
   "execution_count": null,
   "metadata": {
    "scrolled": false
   },
   "outputs": [],
   "source": [
    "states = [f'Versicherungstarif==\"{x}\"' for x in data['Versicherungstarif'].unique()]\n",
    "\n",
    "tarif = Vertex(\"Versicherungstarif\", states)\n",
    "tarif.register_parent(age)\n",
    "tarif.register_parent(familienstand)\n",
    "tarif.register_parent(beruf)\n",
    "tarif.register_parent(gehalt)\n",
    "tarif.register_parent(immobilie)\n",
    "tarif.update_cpt()\n",
    "tarif.print_cpt()"
   ]
  },
  {
   "cell_type": "markdown",
   "metadata": {},
   "source": [
    "\n",
    "# 4. Implementierung des Bayesian Networks\n",
    "\n",
    "Für das Bayesian Network benutzen wir die Bibliothek *pomegranate*. Zuerst müssen für alle Variablen die möglichen Ereignisse/Ausgänge und dazugehörige (bedingte) Wahrscheinlichkeiten angegeben. Danach werden entsprechende Nodes erzeugt, einem Modell hinzugefügt und miteinander verbunden. "
   ]
  },
  {
   "cell_type": "code",
   "execution_count": null,
   "metadata": {
    "scrolled": true
   },
   "outputs": [],
   "source": [
    "# Defining probability distributions\n",
    "sex_cpt = DiscreteDistribution({'Geschlecht==\"maennlich\"': 0.502, 'Geschlecht==\"weiblich\"': 0.498})\n",
    "age_cpt = DiscreteDistribution({\"Alter < 20\": 0.122, \"Alter >=20 & Alter < 65\": 0.764, \"Alter>=65\": 0.114})\n",
    "familienstand_cpt = ConditionalProbabilityTable(familienstand.cpt, [age_cpt])\n",
    "kinder_cpt = ConditionalProbabilityTable(kinder.cpt, [age_cpt])\n",
    "bildungsstand_cpt = ConditionalProbabilityTable(education.cpt, [age_cpt, sex_cpt])\n",
    "beruf_cpt = ConditionalProbabilityTable(beruf.cpt, [age_cpt, sex_cpt, bildungsstand_cpt])\n",
    "gehalt_cpt = ConditionalProbabilityTable(gehalt.cpt, [age_cpt, bildungsstand_cpt, beruf_cpt])\n",
    "immobilie_cpt = ConditionalProbabilityTable(immobilie.cpt, [age_cpt, sex_cpt, kinder_cpt, gehalt_cpt])\n",
    "tarif_cpt = ConditionalProbabilityTable(tarif.cpt, [age_cpt, familienstand_cpt, beruf_cpt, gehalt_cpt, immobilie_cpt])\n",
    "\n",
    "# Defining nodes\n",
    "sex_n = Node(sex_cpt, name=\"Geschlecht\")\n",
    "age_n = Node(age_cpt, name=\"Alter\")\n",
    "familienstand_n = Node(familienstand_cpt, name=\"Familienstand\")\n",
    "kinder_n = Node(kinder_cpt, name=\"Kinder\")\n",
    "bildungsstand_n = Node(bildungsstand_cpt, name=\"Bildungsstand\")\n",
    "beruf_n = Node(beruf_cpt, name=\"Beruf\")\n",
    "gehalt_n = Node(gehalt_cpt, name=\"Gehalt\")\n",
    "immobilie_n = Node(immobilie_cpt, name=\"Immobilienbesitz\")\n",
    "tarif_n = Node(tarif_cpt, name=\"Versicherungstarif\")\n",
    "\n",
    "# Init model\n",
    "model = BayesianNetwork(\"Versicherungstarif_Netz\")\n",
    "\n",
    "# Add states\n",
    "model.add_states(sex_n, familienstand_n, age_n,  kinder_n, bildungsstand_n, beruf_n, gehalt_n, immobilie_n, tarif_n)\n",
    "\n",
    "# Add edges\n",
    "# familienstand und kinder\n",
    "model.add_edge(age_n, familienstand_n) \n",
    "model.add_edge(age_n, kinder_n) \n",
    "\n",
    "# Bildungsstand\n",
    "model.add_edge(age_n, bildungsstand_n)\n",
    "model.add_edge(sex_n, bildungsstand_n)\n",
    "\n",
    "# Beruf\n",
    "model.add_edge(age_n, beruf_n)\n",
    "model.add_edge(sex_n, beruf_n)\n",
    "model.add_edge(bildungsstand_n, beruf_n)\n",
    "\n",
    "# Gehalt\n",
    "model.add_edge(age_n, gehalt_n)\n",
    "model.add_edge(bildungsstand_n, gehalt_n)\n",
    "model.add_edge(beruf_n, gehalt_n)\n",
    "\n",
    "# Immobilie\n",
    "model.add_edge(age_n, immobilie_n)\n",
    "model.add_edge(sex_n, immobilie_n)\n",
    "model.add_edge(kinder_n, immobilie_n)\n",
    "model.add_edge(gehalt_n, immobilie_n)\n",
    "\n",
    "# Immobilie\n",
    "model.add_edge(age_n, tarif_n)\n",
    "model.add_edge(familienstand_n, tarif_n)\n",
    "model.add_edge(beruf_n, tarif_n)\n",
    "model.add_edge(gehalt_n, tarif_n)\n",
    "model.add_edge(immobilie_n, tarif_n)\n",
    "\n",
    "\n",
    "model.bake()"
   ]
  },
  {
   "cell_type": "code",
   "execution_count": null,
   "metadata": {},
   "outputs": [],
   "source": [
    "# Beispiele\n",
    "model.predict([['Geschlecht==\"maennlich\"', None, 'Alter < 20', None, None, None, None, None, None]])"
   ]
  },
  {
   "cell_type": "code",
   "execution_count": null,
   "metadata": {},
   "outputs": [],
   "source": [
    "model.predict_proba([['Geschlecht==\"maennlich\"', 'Familienstand==\"verheiratet\"', 'Alter >=20 & Alter < 65', 'Kinder < 3', \n",
    "                      'Bildungsstand==\"Master\"', 'Beruf==\"selbständig\"', 'Jahresgehalt >= 100000', \n",
    "                      'Immobilienbesitz==\"Einfamilienhaus\"', None]])"
   ]
  },
  {
   "cell_type": "markdown",
   "metadata": {},
   "source": [
    "# 5. Test und Evaluation\n",
    "\n",
    "Mit folgendem Beispielcode können Sie die fehlenden Werte von Personen vorhersagen."
   ]
  },
  {
   "cell_type": "code",
   "execution_count": null,
   "metadata": {},
   "outputs": [],
   "source": [
    "# Hilfsklasse für Person\n",
    "class Person:\n",
    "    \n",
    "    def __init__(self, df_row):\n",
    "        self.geschlecht = df_row[0]\n",
    "        self.familienstand = df_row[1]\n",
    "        self.alter = df_row[2]\n",
    "        self.kinder = df_row[3]\n",
    "        self.bildungsstand = df_row[4]\n",
    "        self.beruf = df_row[5]\n",
    "        self.jahresgehalt = df_row[6]\n",
    "        self.immobilienbesitz = df_row[7]\n",
    "        self.versicherungstarif = df_row[8]\n",
    "        \n",
    "    def get_bayes_query(self):\n",
    "        query = []\n",
    "        query.append(None if self.geschlecht==None else f'Geschlecht==\"{self.geschlecht}\"')\n",
    "        query.append(None if self.familienstand==None else f'Familienstand==\"{self.familienstand}\"')\n",
    "        query.append(None if self.alter==None else 'Alter < 20' if self.alter < 20 \n",
    "                     else 'Alter >=20 & Alter < 65' if 20 <= self.alter < 65 \n",
    "                     else 'Alter>=65')\n",
    "        query.append(None if self.kinder==None else 'Kinder < 3' if self.kinder < 3 else 'Kinder >= 3')\n",
    "        query.append(None if self.bildungsstand==None else f'Bildungsstand==\"{self.bildungsstand}\"')\n",
    "        query.append(None if self.beruf==None else f'Beruf==\"{self.beruf}\"')\n",
    "        query.append(None if self.jahresgehalt==None else 'Jahresgehalt < 10000' if self.jahresgehalt < 10000\n",
    "                     else 'Jahresgehalt >= 10000 & Jahresgehalt < 60000' if 10000 <= self.jahresgehalt < 60000\n",
    "                     else 'Jahresgehalt >= 60000 & Jahresgehalt < 80000' if 60000 <= self.jahresgehalt < 80000\n",
    "                     else 'Jahresgehalt >= 80000 & Jahresgehalt < 100000' if 80000 <= self.jahresgehalt < 100000\n",
    "                     else 'Jahresgehalt >= 100000')\n",
    "        query.append(None if self.immobilienbesitz==None else f'Immobilienbesitz==\"{self.immobilienbesitz}\"')\n",
    "        query.append(None if self.versicherungstarif==None else f'Versicherungstarif==\"{self.versicherungstarif}\"')\n",
    "        \n",
    "        return query"
   ]
  },
  {
   "cell_type": "code",
   "execution_count": null,
   "metadata": {},
   "outputs": [],
   "source": [
    "# Testdatensatz\n",
    "data_test = pd.read_csv('test_daten.csv', sep=\";\")\n",
    "data_test = data_test.where(pd.notnull(data_test), None)\n",
    "data_test.head()"
   ]
  },
  {
   "cell_type": "code",
   "execution_count": null,
   "metadata": {},
   "outputs": [],
   "source": [
    "# Ausgabe der vorhergesagten Werte\n",
    "for index, row in data_test.iterrows():\n",
    "    print(index)\n",
    "    p = Person(data_test.iloc[index,:])\n",
    "    print(model.predict([p.get_bayes_query()]))"
   ]
  },
  {
   "cell_type": "code",
   "execution_count": null,
   "metadata": {},
   "outputs": [],
   "source": [
    "# Vergleich mit echten Werten\n",
    "data.head()"
   ]
  },
  {
   "cell_type": "markdown",
   "metadata": {},
   "source": [
    "## 6. Fazit\n",
    "\n",
    "Mithilfe von Pomegranate und verschiedener Hilfsklassen konnten wir ein Bayesian Network entwickeln, das fehlende Variablen vorhersagt. Basierend auf Erkenntnissen, die durch Datenvisualisierung und Unabhängigkeitstests gewonnen wurden, haben wir zunächst die Beziehungen der Variablen untersucht und einen passenden Graph entwickelt. Daraufhin konnten wir die Conditional Probability Tables automatisiert berechnen und das Netzwerk implementieren und testen.\n",
    "\n",
    "Das Design des Graphs ist maßgeblich für die weitere Berechnung und Implementierung der Conditional Probability Tables und des Bayesian Netzwerk. Es gibt einige Entscheidungen, über die man sicherlich streiten kann:\n",
    "- sollte **Kinder** ein Elternknoten von **Immobilienbesitz** sein (-> muss man sich als Erwachsener entscheiden, ob man ein Kind oder ein Haus will?)\n",
    "- ist das **Geschlecht** nicht doch direkt mitverantwortlich für den **Tarif** (Erfahrungen aus der echten Welt würden dies wohl bestätigen).\n",
    "- ab wann sind Ereignisse unabhängig? Ist 0.8 < P(A|B)/P(A) < 1.25 ein zu hoher Schwellwert für stochastische Abhängigkeit?\n",
    "- wurden die numerischen Variablen (Alter, Kinder, Gehalt) in zu große Gruppen eingeteilt? Sollte man hier feinere Abstufungen implementieren oder gar eine kontinuierliche Eingabe/Vorhersage ermöglichen?\n",
    "- sollte die CPT an Stellen, an denen der Nenner P(A|B)/**P(B)** null war (und somit die bedingte Wahrscheinlichkeit aufgrund von mangelnden Beispielen nicht berechnet werden konnte), mit Nullen aufgefüllt werden oder sollten diese Zeilen von der Tabelle gelöscht werden?\n",
    "- ...\n",
    "\n",
    "Für viele dieser Designfragen versuchten wir, eine möglichst klare Antwort aus den Daten ablesen zu können. Wir sind zuversichtlich, ein passendes Netzwerk implementiert zu haben."
   ]
  }
 ],
 "metadata": {
  "kernelspec": {
   "display_name": "Python 3",
   "language": "python",
   "name": "python3"
  },
  "language_info": {
   "codemirror_mode": {
    "name": "ipython",
    "version": 3
   },
   "file_extension": ".py",
   "mimetype": "text/x-python",
   "name": "python",
   "nbconvert_exporter": "python",
   "pygments_lexer": "ipython3",
   "version": "3.7.3"
  }
 },
 "nbformat": 4,
 "nbformat_minor": 2
}
